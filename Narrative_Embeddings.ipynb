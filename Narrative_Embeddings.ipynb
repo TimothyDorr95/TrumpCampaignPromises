{
 "cells": [
  {
   "cell_type": "markdown",
   "metadata": {},
   "source": [
    "# Narrative Embeddings\n",
    "In this file, I will embedd the key narrratives, and look at the cosine similarity to the quotes, and the themes I extracted from his speeches. "
   ]
  },
  {
   "cell_type": "code",
   "execution_count": 21,
   "metadata": {},
   "outputs": [
    {
     "data": {
      "text/plain": [
       "True"
      ]
     },
     "execution_count": 21,
     "metadata": {},
     "output_type": "execute_result"
    }
   ],
   "source": [
    "import pandas as pd\n",
    "import numpy as np\n",
    "import os\n",
    "import re\n",
    "import json\n",
    "import time\n",
    "from openai import OpenAI\n",
    "from dotenv import load_dotenv\n",
    "from tqdm.auto import tqdm\n",
    "# Configure tqdm for pandas\n",
    "tqdm.pandas()\n",
    "\n",
    "# Load environment variables from .env file\n",
    "load_dotenv()"
   ]
  },
  {
   "cell_type": "code",
   "execution_count": 7,
   "metadata": {},
   "outputs": [],
   "source": [
    "# Access your API key\n",
    "openai_api_key = os.getenv(\"OpenAI_Key_CSS\")\n",
    "\n",
    "# Initialize OpenAI client\n",
    "client = OpenAI(api_key=openai_api_key)"
   ]
  },
  {
   "cell_type": "markdown",
   "metadata": {},
   "source": [
    "## Get Embeddings of Arguments/Narratives\n",
    "First, we have to get the embeddings of the key themes we are working with. "
   ]
  },
  {
   "cell_type": "code",
   "execution_count": 4,
   "metadata": {},
   "outputs": [
    {
     "data": {
      "text/html": [
       "<div>\n",
       "<style scoped>\n",
       "    .dataframe tbody tr th:only-of-type {\n",
       "        vertical-align: middle;\n",
       "    }\n",
       "\n",
       "    .dataframe tbody tr th {\n",
       "        vertical-align: top;\n",
       "    }\n",
       "\n",
       "    .dataframe thead th {\n",
       "        text-align: right;\n",
       "    }\n",
       "</style>\n",
       "<table border=\"1\" class=\"dataframe\">\n",
       "  <thead>\n",
       "    <tr style=\"text-align: right;\">\n",
       "      <th></th>\n",
       "      <th>Label</th>\n",
       "      <th>Description</th>\n",
       "    </tr>\n",
       "  </thead>\n",
       "  <tbody>\n",
       "    <tr>\n",
       "      <th>0</th>\n",
       "      <td>Economy and Jobs</td>\n",
       "      <td>Trump's economic promises center around revita...</td>\n",
       "    </tr>\n",
       "    <tr>\n",
       "      <th>1</th>\n",
       "      <td>Border Security and Immigration</td>\n",
       "      <td>Trump places significant emphasis on border se...</td>\n",
       "    </tr>\n",
       "    <tr>\n",
       "      <th>2</th>\n",
       "      <td>Energy Policy</td>\n",
       "      <td>Trump's energy platform focuses on achieving A...</td>\n",
       "    </tr>\n",
       "    <tr>\n",
       "      <th>3</th>\n",
       "      <td>Law and Order</td>\n",
       "      <td>Trump's law and order platform emphasizes supp...</td>\n",
       "    </tr>\n",
       "    <tr>\n",
       "      <th>4</th>\n",
       "      <td>Education Reform</td>\n",
       "      <td>Trump's education platform focuses on limiting...</td>\n",
       "    </tr>\n",
       "  </tbody>\n",
       "</table>\n",
       "</div>"
      ],
      "text/plain": [
       "                             Label  \\\n",
       "0                 Economy and Jobs   \n",
       "1  Border Security and Immigration   \n",
       "2                    Energy Policy   \n",
       "3                    Law and Order   \n",
       "4                 Education Reform   \n",
       "\n",
       "                                         Description  \n",
       "0  Trump's economic promises center around revita...  \n",
       "1  Trump places significant emphasis on border se...  \n",
       "2  Trump's energy platform focuses on achieving A...  \n",
       "3  Trump's law and order platform emphasizes supp...  \n",
       "4  Trump's education platform focuses on limiting...  "
      ]
     },
     "execution_count": 4,
     "metadata": {},
     "output_type": "execute_result"
    }
   ],
   "source": [
    "#read the initial arguments csv file\n",
    "df_args = pd.read_csv('Data/Arguments_Embeddigns/Campaing_Promises_embeddings_p1.csv')\n",
    "df_args.head()\n"
   ]
  },
  {
   "cell_type": "code",
   "execution_count": 9,
   "metadata": {},
   "outputs": [],
   "source": [
    "def get_embedding(text, model=\"text-embedding-3-large\"):\n",
    "    text = text.replace(\"\\n\", \" \")\n",
    "    return client.embeddings.create(input = [text], model=model).data[0].embedding\n"
   ]
  },
  {
   "cell_type": "code",
   "execution_count": 10,
   "metadata": {},
   "outputs": [
    {
     "name": "stderr",
     "output_type": "stream",
     "text": [
      "100%|██████████| 11/11 [00:07<00:00,  1.46it/s]\n"
     ]
    }
   ],
   "source": [
    "df_args['embedding'] = df_args['Description'].progress_apply(lambda x: get_embedding(x))"
   ]
  },
  {
   "cell_type": "code",
   "execution_count": 11,
   "metadata": {},
   "outputs": [
    {
     "data": {
      "text/html": [
       "<div>\n",
       "<style scoped>\n",
       "    .dataframe tbody tr th:only-of-type {\n",
       "        vertical-align: middle;\n",
       "    }\n",
       "\n",
       "    .dataframe tbody tr th {\n",
       "        vertical-align: top;\n",
       "    }\n",
       "\n",
       "    .dataframe thead th {\n",
       "        text-align: right;\n",
       "    }\n",
       "</style>\n",
       "<table border=\"1\" class=\"dataframe\">\n",
       "  <thead>\n",
       "    <tr style=\"text-align: right;\">\n",
       "      <th></th>\n",
       "      <th>Label</th>\n",
       "      <th>Description</th>\n",
       "      <th>embedding</th>\n",
       "    </tr>\n",
       "  </thead>\n",
       "  <tbody>\n",
       "    <tr>\n",
       "      <th>0</th>\n",
       "      <td>Economy and Jobs</td>\n",
       "      <td>Trump's economic promises center around revita...</td>\n",
       "      <td>[-0.008811792358756065, 0.00041153558413498104...</td>\n",
       "    </tr>\n",
       "    <tr>\n",
       "      <th>1</th>\n",
       "      <td>Border Security and Immigration</td>\n",
       "      <td>Trump places significant emphasis on border se...</td>\n",
       "      <td>[-0.012985062785446644, -0.03436608985066414, ...</td>\n",
       "    </tr>\n",
       "    <tr>\n",
       "      <th>2</th>\n",
       "      <td>Energy Policy</td>\n",
       "      <td>Trump's energy platform focuses on achieving A...</td>\n",
       "      <td>[-0.014339656569063663, -0.02485981024801731, ...</td>\n",
       "    </tr>\n",
       "    <tr>\n",
       "      <th>3</th>\n",
       "      <td>Law and Order</td>\n",
       "      <td>Trump's law and order platform emphasizes supp...</td>\n",
       "      <td>[-0.03602679818868637, -0.05606026202440262, -...</td>\n",
       "    </tr>\n",
       "    <tr>\n",
       "      <th>4</th>\n",
       "      <td>Education Reform</td>\n",
       "      <td>Trump's education platform focuses on limiting...</td>\n",
       "      <td>[-0.019362250342965126, -0.029165612533688545,...</td>\n",
       "    </tr>\n",
       "  </tbody>\n",
       "</table>\n",
       "</div>"
      ],
      "text/plain": [
       "                             Label  \\\n",
       "0                 Economy and Jobs   \n",
       "1  Border Security and Immigration   \n",
       "2                    Energy Policy   \n",
       "3                    Law and Order   \n",
       "4                 Education Reform   \n",
       "\n",
       "                                         Description  \\\n",
       "0  Trump's economic promises center around revita...   \n",
       "1  Trump places significant emphasis on border se...   \n",
       "2  Trump's energy platform focuses on achieving A...   \n",
       "3  Trump's law and order platform emphasizes supp...   \n",
       "4  Trump's education platform focuses on limiting...   \n",
       "\n",
       "                                           embedding  \n",
       "0  [-0.008811792358756065, 0.00041153558413498104...  \n",
       "1  [-0.012985062785446644, -0.03436608985066414, ...  \n",
       "2  [-0.014339656569063663, -0.02485981024801731, ...  \n",
       "3  [-0.03602679818868637, -0.05606026202440262, -...  \n",
       "4  [-0.019362250342965126, -0.029165612533688545,...  "
      ]
     },
     "execution_count": 11,
     "metadata": {},
     "output_type": "execute_result"
    }
   ],
   "source": [
    "df_args.head()"
   ]
  },
  {
   "cell_type": "code",
   "execution_count": 12,
   "metadata": {},
   "outputs": [],
   "source": [
    "df_args.to_csv('Data/Arguments_Embeddigns/Campaing_Promises_embeddings_p1.csv', index=False)\n",
    "#save as feather\n",
    "df_args.to_feather('Data/Arguments_Embeddigns/Campaing_Promises_embeddings_p1.feather')\n",
    "#save as parquet\n",
    "df_args.to_parquet('Data/Arguments_Embeddigns/Campaing_Promises_embeddings_p1.parquet')"
   ]
  },
  {
   "cell_type": "markdown",
   "metadata": {},
   "source": [
    "## embedding descriptions"
   ]
  },
  {
   "cell_type": "code",
   "execution_count": 15,
   "metadata": {},
   "outputs": [
    {
     "name": "stdout",
     "output_type": "stream",
     "text": [
      "(1803, 6)\n"
     ]
    },
    {
     "data": {
      "text/html": [
       "<div>\n",
       "<style scoped>\n",
       "    .dataframe tbody tr th:only-of-type {\n",
       "        vertical-align: middle;\n",
       "    }\n",
       "\n",
       "    .dataframe tbody tr th {\n",
       "        vertical-align: top;\n",
       "    }\n",
       "\n",
       "    .dataframe thead th {\n",
       "        text-align: right;\n",
       "    }\n",
       "</style>\n",
       "<table border=\"1\" class=\"dataframe\">\n",
       "  <thead>\n",
       "    <tr style=\"text-align: right;\">\n",
       "      <th></th>\n",
       "      <th>video_id</th>\n",
       "      <th>Label</th>\n",
       "      <th>Description</th>\n",
       "      <th>Excerpt</th>\n",
       "      <th>Issue</th>\n",
       "      <th>Importance</th>\n",
       "    </tr>\n",
       "  </thead>\n",
       "  <tbody>\n",
       "    <tr>\n",
       "      <th>0</th>\n",
       "      <td>0npi0hevtKg</td>\n",
       "      <td>Secure the Border</td>\n",
       "      <td>Trump promises to secure the U.S. border by co...</td>\n",
       "      <td>I'm going to be a dictator for one day and we'...</td>\n",
       "      <td>Illegal immigration and border security</td>\n",
       "      <td>9</td>\n",
       "    </tr>\n",
       "    <tr>\n",
       "      <th>1</th>\n",
       "      <td>0npi0hevtKg</td>\n",
       "      <td>Energy Independence</td>\n",
       "      <td>Trump pledges to make the U.S. energy independ...</td>\n",
       "      <td>we're going to become energy independent we're...</td>\n",
       "      <td>Energy independence and economic stability</td>\n",
       "      <td>8</td>\n",
       "    </tr>\n",
       "    <tr>\n",
       "      <th>2</th>\n",
       "      <td>0npi0hevtKg</td>\n",
       "      <td>Military Strength</td>\n",
       "      <td>Trump promises to strengthen the U.S. military...</td>\n",
       "      <td>our military has gone woke and we are teeterin...</td>\n",
       "      <td>Military readiness and national security</td>\n",
       "      <td>7</td>\n",
       "    </tr>\n",
       "    <tr>\n",
       "      <th>3</th>\n",
       "      <td>0npi0hevtKg</td>\n",
       "      <td>Economic Revival</td>\n",
       "      <td>Trump aims to revive the U.S. economy by reduc...</td>\n",
       "      <td>our middle class is being crushed by Joe Biden...</td>\n",
       "      <td>Economic stability and inflation</td>\n",
       "      <td>8</td>\n",
       "    </tr>\n",
       "    <tr>\n",
       "      <th>4</th>\n",
       "      <td>0npi0hevtKg</td>\n",
       "      <td>Law and Order</td>\n",
       "      <td>Trump promises to restore law and order by sup...</td>\n",
       "      <td>we're going to give the police back their Auth...</td>\n",
       "      <td>Crime and public safety</td>\n",
       "      <td>7</td>\n",
       "    </tr>\n",
       "  </tbody>\n",
       "</table>\n",
       "</div>"
      ],
      "text/plain": [
       "      video_id                Label  \\\n",
       "0  0npi0hevtKg    Secure the Border   \n",
       "1  0npi0hevtKg  Energy Independence   \n",
       "2  0npi0hevtKg    Military Strength   \n",
       "3  0npi0hevtKg     Economic Revival   \n",
       "4  0npi0hevtKg        Law and Order   \n",
       "\n",
       "                                         Description  \\\n",
       "0  Trump promises to secure the U.S. border by co...   \n",
       "1  Trump pledges to make the U.S. energy independ...   \n",
       "2  Trump promises to strengthen the U.S. military...   \n",
       "3  Trump aims to revive the U.S. economy by reduc...   \n",
       "4  Trump promises to restore law and order by sup...   \n",
       "\n",
       "                                             Excerpt  \\\n",
       "0  I'm going to be a dictator for one day and we'...   \n",
       "1  we're going to become energy independent we're...   \n",
       "2  our military has gone woke and we are teeterin...   \n",
       "3  our middle class is being crushed by Joe Biden...   \n",
       "4  we're going to give the police back their Auth...   \n",
       "\n",
       "                                        Issue  Importance  \n",
       "0     Illegal immigration and border security           9  \n",
       "1  Energy independence and economic stability           8  \n",
       "2    Military readiness and national security           7  \n",
       "3            Economic stability and inflation           8  \n",
       "4                     Crime and public safety           7  "
      ]
     },
     "execution_count": 15,
     "metadata": {},
     "output_type": "execute_result"
    }
   ],
   "source": [
    "promises_df = pd.read_parquet('Data/Promises_From_Speech/promises_p1.parquet')\n",
    "print(promises_df.shape)\n",
    "promises_df.head()"
   ]
  },
  {
   "cell_type": "code",
   "execution_count": 17,
   "metadata": {},
   "outputs": [
    {
     "name": "stderr",
     "output_type": "stream",
     "text": [
      "100%|██████████| 1803/1803 [22:41<00:00,  1.32it/s]  "
     ]
    },
    {
     "name": "stdout",
     "output_type": "stream",
     "text": [
      "Series([], Name: Description, dtype: object)\n"
     ]
    },
    {
     "name": "stderr",
     "output_type": "stream",
     "text": [
      "\n"
     ]
    },
    {
     "data": {
      "text/plain": [
       "0    [0.0071108583360910416, -0.03017244301736355, ...\n",
       "1    [-0.008141732774674892, -0.0009867080952972174...\n",
       "2    [-0.043753284960985184, -0.003683375660330057,...\n",
       "3    [-0.025632129982113838, -0.01909560151398182, ...\n",
       "4    [-0.014920054003596306, -0.05041293427348137, ...\n",
       "Name: embedding_description, dtype: object"
      ]
     },
     "execution_count": 17,
     "metadata": {},
     "output_type": "execute_result"
    }
   ],
   "source": [
    "promises_df['embedding_description'] = promises_df['Description'].progress_apply(lambda x: get_embedding(x))\n",
    "print(promises_df[promises_df['Description'].isna()]['Description'])\n",
    "promises_df['embedding_description'].head()"
   ]
  },
  {
   "cell_type": "code",
   "execution_count": 18,
   "metadata": {},
   "outputs": [
    {
     "name": "stdout",
     "output_type": "stream",
     "text": [
      "0\n"
     ]
    }
   ],
   "source": [
    "#check if there are any null values in the embedding column\n",
    "print(promises_df['embedding_description'].isna().sum())"
   ]
  },
  {
   "cell_type": "code",
   "execution_count": 20,
   "metadata": {},
   "outputs": [],
   "source": [
    "#save to parquet, feather and csv\n",
    "promises_df.to_csv('Data/Arguments_Embeddigns/promises_p1_embeddings.csv', index=False)\n",
    "promises_df.to_feather('Data/Arguments_Embeddigns/promises_p1_embeddings.feather')\n",
    "promises_df.to_parquet('Data/Arguments_Embeddigns/promises_p1_embeddings.parquet')"
   ]
  },
  {
   "cell_type": "markdown",
   "metadata": {},
   "source": [
    "Now I have the embeddings of the key descriptions saved, so I can move on getting cosine similarities for them with the embedded narratives. "
   ]
  }
 ],
 "metadata": {
  "kernelspec": {
   "display_name": "Python 3",
   "language": "python",
   "name": "python3"
  },
  "language_info": {
   "codemirror_mode": {
    "name": "ipython",
    "version": 3
   },
   "file_extension": ".py",
   "mimetype": "text/x-python",
   "name": "python",
   "nbconvert_exporter": "python",
   "pygments_lexer": "ipython3",
   "version": "3.12.2"
  }
 },
 "nbformat": 4,
 "nbformat_minor": 2
}
