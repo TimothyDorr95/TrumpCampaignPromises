{
 "cells": [
  {
   "cell_type": "markdown",
   "metadata": {},
   "source": [
    "# Narrative Embeddings\n",
    "In this file, I will embedd the key narrratives, and look at the cosine similarity to the quotes, and the themes I extracted from his speeches. "
   ]
  },
  {
   "cell_type": "markdown",
   "metadata": {},
   "source": [
    "## Get Embeddings of Arguments/Narratives\n",
    "First, we have to get the embeddings of the key themes we are working with. "
   ]
  },
  {
   "cell_type": "code",
   "execution_count": null,
   "metadata": {},
   "outputs": [],
   "source": []
  }
 ],
 "metadata": {
  "language_info": {
   "name": "python"
  }
 },
 "nbformat": 4,
 "nbformat_minor": 2
}
